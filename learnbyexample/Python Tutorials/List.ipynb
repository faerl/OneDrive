{
 "cells": [
  {
   "cell_type": "markdown",
   "metadata": {},
   "source": [
    "# Python List\n",
    "A list is a sequence of values (similar to an array in other programming languages but more versatile)\n",
    "\n",
    "The values in a list are called items or sometimes elements.\n",
    "\n",
    "The important properties of Python lists are as follows:\n",
    "\n",
    "* Lists are ordered – Lists remember the order of items inserted.\n",
    "* Accessed by index – Items in a list can be accessed using an index.\n",
    "* Lists can contain any sort of object – It can be numbers, strings, tuples and even other lists.\n",
    "* Lists are changeable (mutable) – You can change a list in-place, add new items, and delete or update existing items.\n",
    "\n",
    "# Create a List\n",
    "\n",
    "You can create a list by placing a comma-separated sequence of values in square brackets []."
   ]
  },
  {
   "cell_type": "code",
   "execution_count": null,
   "metadata": {},
   "outputs": [],
   "source": [
    "# A list of integers\n",
    "L = [1, 2, 3]\n",
    "L"
   ]
  },
  {
   "cell_type": "code",
   "execution_count": null,
   "metadata": {},
   "outputs": [],
   "source": [
    "# A list of strings\n",
    "L = ['red', 'green', 'blue']\n",
    "L"
   ]
  },
  {
   "cell_type": "markdown",
   "metadata": {},
   "source": [
    "The items of a list don’t have to be the same type. The following list contains an integer, a string, a float, a complex number, and a boolean."
   ]
  },
  {
   "cell_type": "code",
   "execution_count": null,
   "metadata": {},
   "outputs": [],
   "source": [
    "# A list of mixed datatypes\n",
    "L = [ 1, 'abc', 1.23, (3+4j), True]\n",
    "L"
   ]
  },
  {
   "cell_type": "markdown",
   "metadata": {},
   "source": [
    "A list containing zero items is called an empty list and you can create one with empty\n",
    "brackets []"
   ]
  },
  {
   "cell_type": "code",
   "execution_count": null,
   "metadata": {},
   "outputs": [],
   "source": [
    "# An empty list\n",
    "L = []\n",
    "L"
   ]
  },
  {
   "cell_type": "markdown",
   "metadata": {},
   "source": [
    "# The list() Constructor\n",
    "\n",
    "You can convert other data types to lists using Python’s list() constructor."
   ]
  },
  {
   "cell_type": "code",
   "execution_count": null,
   "metadata": {},
   "outputs": [],
   "source": [
    "# Example: Convert a string to a list of one-character strings\n",
    "L = list('abc')\n",
    "print(L)    # ['a', 'b', 'c']"
   ]
  },
  {
   "cell_type": "code",
   "execution_count": null,
   "metadata": {},
   "outputs": [],
   "source": [
    "# Example: Convert a tuple to a list\n",
    "L = list((1, 2, 3))\n",
    "print(L)    # [1, 2, 3]"
   ]
  },
  {
   "cell_type": "markdown",
   "metadata": {},
   "source": [
    "# Nested List\n",
    "\n",
    "A list can contain sublists, which in turn can contain sublists themselves, and so on. This is known as nested list.\n",
    "\n",
    "You can use them to arrange data into hierarchical structures."
   ]
  },
  {
   "cell_type": "code",
   "execution_count": null,
   "metadata": {},
   "outputs": [],
   "source": [
    "# Nested list\n",
    "L = ['a', ['bb', ['ccc', 'ddd'], 'ee', 'ff'], 'g', 'h']\n",
    "print(L)"
   ]
  },
  {
   "cell_type": "markdown",
   "metadata": {},
   "source": [
    "# Access List Items by Index\n",
    "\n",
    "You can access individual items in a list using an index in square brackets.\n",
    "\n",
    "Note that list indexing always starts from 0.\n",
    "\n",
    "The indexes for the items in a list are illustrated as below:\n",
    "![5lDrTJ](https://gitee.com/faerl/upic/raw/master/5lDrTJ.png)"
   ]
  },
  {
   "cell_type": "code",
   "execution_count": null,
   "metadata": {},
   "outputs": [],
   "source": [
    "# Example: Access 1st and 3rd list items\n",
    "L = ['red', 'green', 'blue', 'yellow', 'black']\n",
    "print(L[0])\t\t# red\n",
    "print(L[2])\t\t# blue"
   ]
  },
  {
   "cell_type": "markdown",
   "metadata": {},
   "source": [
    "Python will raise an IndexError error, if you use an index that exceeds the number of items in your list."
   ]
  },
  {
   "cell_type": "code",
   "execution_count": null,
   "metadata": {},
   "outputs": [],
   "source": [
    "# IndexError: list index out of range\n",
    "L = ['red', 'green', 'blue', 'yellow', 'black']\n",
    "print(L[5])"
   ]
  },
  {
   "cell_type": "markdown",
   "metadata": {},
   "source": [
    "# Negative List Indexing\n",
    "\n",
    "You can access a list by negative indexing as well.\n",
    "\n",
    "Negative indexes count backward from the end of the list. So, L[-1] refers to the last item, L[-2] is the second-last, and so on.\n",
    "\n",
    "The negative indexes for the items in a list are illustrated as below:\n",
    "![12HU8j](https://gitee.com/faerl/upic/raw/master/12HU8j.png)"
   ]
  },
  {
   "cell_type": "code",
   "execution_count": null,
   "metadata": {},
   "outputs": [],
   "source": [
    "# Example: Access last and 2nd last list items\n",
    "L = ['red', 'green', 'blue', 'yellow', 'black']\n",
    "print(L[-1])    # black\n",
    "print(L[-2])    # yellow"
   ]
  },
  {
   "cell_type": "markdown",
   "metadata": {},
   "source": [
    "Access Nested List Items\n",
    "\n",
    "Similarly, you can access individual items in a nested list using multiple indexes.\n",
    "\n",
    "The first index determines which list to use, and the second indicates the value within that list.\n",
    "\n",
    "The indexes for the items in a nested list are illustrated as below:\n",
    "![jzVkIp](https://gitee.com/faerl/upic/raw/master/jzVkIp.png)"
   ]
  },
  {
   "cell_type": "code",
   "execution_count": null,
   "metadata": {},
   "outputs": [],
   "source": [
    "# Example: Access items of a nested list\n",
    "L = ['a', 'b', ['cc', 'dd', ['eee', 'fff']], 'g', 'h']\n",
    "print(L[2][2])     # ['eee', 'fff']\n",
    "print(L[2][2][0])  # eee"
   ]
  },
  {
   "cell_type": "markdown",
   "metadata": {},
   "source": [
    "# Slicing a List\n",
    "\n",
    "You can extract a sub-sequence of a list by using a slice. A slice of a list is also a list."
   ]
  },
  {
   "cell_type": "code",
   "execution_count": null,
   "metadata": {},
   "outputs": [],
   "source": [
    "L = ['a', 'b', 'c', 'd', 'e', 'f']\n",
    "\n",
    "print(L[2:5])\t\t# ['c', 'd', 'e']\n",
    "print(L[0:2])\t\t# ['a', 'b']\n",
    "print(L[3:-1])\t\t# ['d', 'e']"
   ]
  },
  {
   "cell_type": "markdown",
   "metadata": {},
   "source": [
    "# Change Item Value\n",
    "\n",
    "To change the value of a specific item in a list, refer to its index number."
   ]
  },
  {
   "cell_type": "code",
   "execution_count": null,
   "metadata": {},
   "outputs": [],
   "source": [
    "# Example: Change the value of the first and last item in a list\n",
    "L = ['red', 'green', 'blue']\n",
    "\n",
    "L[0] = 'orange'\n",
    "print(L)    # ['orange', 'green', 'blue']\n",
    "\n",
    "L[-1] = 'violet'\n",
    "print(L)    # ['orange', 'green', 'violet']"
   ]
  },
  {
   "cell_type": "markdown",
   "metadata": {},
   "source": [
    "# Add items to a list\n",
    "\n",
    "To add new values to a list, use append() method."
   ]
  },
  {
   "cell_type": "code",
   "execution_count": null,
   "metadata": {},
   "outputs": [],
   "source": [
    "# Example: Append ‘blue’ to the end of the list\n",
    "L = ['red', 'green', 'yellow']\n",
    "L.append('blue')\n",
    "print(L)    # ['red', 'green', 'yellow', 'blue']"
   ]
  },
  {
   "cell_type": "markdown",
   "metadata": {},
   "source": [
    "The append() method adds items only to the end of the list.\n",
    "\n",
    "When you want to insert an item at a specific position in a list, use insert() method."
   ]
  },
  {
   "cell_type": "code",
   "execution_count": null,
   "metadata": {},
   "outputs": [],
   "source": [
    "# Example: Insert ‘blue’ at 2nd position\n",
    "L = ['red', 'green', 'yellow']\n",
    "L.insert(1,'blue')\n",
    "print(L)    # ['red', 'blue', 'green', 'yellow']"
   ]
  },
  {
   "cell_type": "markdown",
   "metadata": {},
   "source": [
    "Note that all of the values in the list after the inserted value will be moved down one index."
   ]
  },
  {
   "cell_type": "markdown",
   "metadata": {},
   "source": [
    "# Combine Lists\n",
    "\n",
    "You can merge one list into another by using extend() method."
   ]
  },
  {
   "cell_type": "code",
   "execution_count": null,
   "metadata": {},
   "outputs": [],
   "source": [
    "# Example: Merge one list into another\n",
    "L = ['red', 'green', 'yellow']\n",
    "L.extend([1,2,3])\n",
    "print(L)    # ['red', 'green', 'yellow', 1, 2, 3]"
   ]
  },
  {
   "cell_type": "markdown",
   "metadata": {},
   "source": [
    "Alternatively, you can use the concatenation operator + or the augmented assignment operator +="
   ]
  },
  {
   "cell_type": "code",
   "execution_count": null,
   "metadata": {},
   "outputs": [],
   "source": [
    "# Example: Append items to a list\n",
    "# concatenation operator\n",
    "L = ['red', 'green', 'blue']\n",
    "L = L + [1,2,3]\n",
    "print(L)    # ['red', 'green', 'blue', 1, 2, 3]\n",
    "# augmented assignment operator\n",
    "L = ['red', 'green', 'blue']\n",
    "L += [1,2,3]\n",
    "print(L)    # ['red', 'green', 'blue', 1, 2, 3]"
   ]
  },
  {
   "cell_type": "markdown",
   "metadata": {},
   "source": [
    "# List Replication\n",
    "\n",
    "You can replicate items in a list using the replication operator *"
   ]
  },
  {
   "cell_type": "code",
   "execution_count": null,
   "metadata": {},
   "outputs": [],
   "source": [
    "# Example: Replicate list items three times\n",
    "L = ['red']\n",
    "L = L * 3\n",
    "print(L)    # ['red', 'red', 'red']"
   ]
  },
  {
   "cell_type": "markdown",
   "metadata": {},
   "source": [
    "# Remove items from a list\n",
    "\n",
    "There are several ways to remove items from a list.\n",
    "\n",
    "# Remove an Item by Index\n",
    "If you know the index of the item you want, you can use pop() method. It modifies the list and returns the removed item.\n",
    "\n",
    "If no index is specified, pop() removes and returns the last item in the list."
   ]
  },
  {
   "cell_type": "code",
   "execution_count": null,
   "metadata": {},
   "outputs": [],
   "source": [
    "# Example: Remove and return 2nd item from the list\n",
    "L = ['red', 'green', 'blue']\n",
    "x = L.pop(1)\n",
    "print(L)\t# ['red', 'blue']\n",
    "\n",
    "# removed item\n",
    "print(x)\t# green"
   ]
  },
  {
   "cell_type": "markdown",
   "metadata": {},
   "source": [
    "If you don’t need the removed value, use the del statement."
   ]
  },
  {
   "cell_type": "code",
   "execution_count": null,
   "metadata": {},
   "outputs": [],
   "source": [
    "# Example: Remove 2nd item from the list\n",
    "L = ['red', 'green', 'blue']\n",
    "del L[1]\n",
    "print(L)\t# ['red', 'blue']"
   ]
  },
  {
   "cell_type": "markdown",
   "metadata": {},
   "source": [
    "# Remove Multiple Items\n",
    "To remove more than one items, use the del keyword with a slice index."
   ]
  },
  {
   "cell_type": "code",
   "execution_count": null,
   "metadata": {},
   "outputs": [],
   "source": [
    "# Example: Remove three items from the list\n",
    "L = ['red', 'green', 'blue', 'yellow', 'black']\n",
    "del L[1:4]\n",
    "print(L)\t# ['red', 'black']"
   ]
  },
  {
   "cell_type": "markdown",
   "metadata": {},
   "source": [
    "# Remove all Items\n",
    "Use clear() method to remove all items from the list."
   ]
  },
  {
   "cell_type": "code",
   "execution_count": null,
   "metadata": {},
   "outputs": [],
   "source": [
    "# Example: Make whole list empty\n",
    "L = ['red', 'green', 'blue']\n",
    "L.clear()\n",
    "print(L)\t# []"
   ]
  },
  {
   "cell_type": "markdown",
   "metadata": {},
   "source": [
    "# Find List Length\n",
    "\n",
    "To find the number of items in a list, use len() method."
   ]
  },
  {
   "cell_type": "code",
   "execution_count": null,
   "metadata": {},
   "outputs": [],
   "source": [
    "# Example: Find length of a list\n",
    "L = ['red', 'green', 'blue']\n",
    "print(len(L))\t# 3"
   ]
  },
  {
   "cell_type": "markdown",
   "metadata": {},
   "source": [
    "# Check if item exists in a list\n",
    "\n",
    "To determine whether a value is or isn’t in a list, you can use in and not in operators with if statement."
   ]
  },
  {
   "cell_type": "code",
   "execution_count": null,
   "metadata": {},
   "outputs": [],
   "source": [
    "# Example: Check for presence/absence of an item in a list\n",
    "# Check for presence\n",
    "L = ['red', 'green', 'blue']\n",
    "if 'red' in L:\n",
    "    print('yes')\n",
    "# Check for absence\n",
    "L = ['red', 'green', 'blue']\n",
    "if 'yellow' not in L:\n",
    "    print('yes')"
   ]
  },
  {
   "cell_type": "markdown",
   "metadata": {
    "toc-hr-collapsed": false
   },
   "source": [
    "# Iterate through a List\n",
    "\n",
    "The most common way to iterate through a list is with a for loop."
   ]
  },
  {
   "cell_type": "code",
   "execution_count": null,
   "metadata": {},
   "outputs": [],
   "source": [
    "# Example: Print each item in a List\n",
    "L = ['red', 'green', 'blue']\n",
    "for item in L:\n",
    "    print(item)\n",
    "# Output: red green blue"
   ]
  },
  {
   "cell_type": "markdown",
   "metadata": {},
   "source": [
    "This works well if you only need to read the items of the list.\n",
    "\n",
    "But if you want to update them, you need the indexes. A common way to do that is to combine the range() and len() functions."
   ]
  },
  {
   "cell_type": "code",
   "execution_count": null,
   "metadata": {},
   "outputs": [],
   "source": [
    "# Example: Loop through the list and double each item\n",
    "L = [1, 2, 3, 4]\n",
    "for i in range(len(L)):\n",
    "    L[i] = L[i] * 2\n",
    "\n",
    "print(L)\t# [2, 4, 6, 8]"
   ]
  },
  {
   "cell_type": "markdown",
   "metadata": {},
   "source": [
    "# Python List Methods\n",
    "\n",
    "Python has a set of built-in methods that you can call on list objects.\n",
    "\n",
    "| Method                                                       | Description                                                  |\n",
    "| ------------------------------------------------------------ | ------------------------------------------------------------ |\n",
    "| [append()](https://www.learnbyexample.org/python-list-append-method/) | Adds an item to the end of the list                          |\n",
    "| [insert()](https://www.learnbyexample.org/python-list-insert-method/) | Inserts an item at a given position                          |\n",
    "| [extend()](https://www.learnbyexample.org/python-list-extend-method/) | Extends the list by appending all the items from the iterable |\n",
    "| [remove()](https://www.learnbyexample.org/python-list-remove-method/) | Removes first instance of the specified item                 |\n",
    "| [pop()](https://www.learnbyexample.org/python-list-pop-method/) | Removes the item at the given position in the list           |\n",
    "| [clear()](https://www.learnbyexample.org/python-list-clear-method/) | Removes all items from the list                              |\n",
    "| [copy()](https://www.learnbyexample.org/python-list-copy-method/) | Returns a shallow copy of the list                           |\n",
    "| [count()](https://www.learnbyexample.org/python-list-count-method/) | Returns the count of specified item in the list              |\n",
    "| [index()](https://www.learnbyexample.org/python-list-index-method/) | Returns the index of first instance of the specified item    |\n",
    "| [reverse()](https://www.learnbyexample.org/python-list-reverse-method/) | Reverses the items of the list in place                      |\n",
    "| [sort()](https://www.learnbyexample.org/python-list-sort-method/) | Sorts the items of the list in place                         |"
   ]
  },
  {
   "cell_type": "markdown",
   "metadata": {},
   "source": [
    "# Built-in Functions with List\n",
    "\n",
    "Python also has a set of built-in functions that you can use with list objects.\n",
    "\n",
    "| Method                                                       | Description                                              |\n",
    "| ------------------------------------------------------------ | -------------------------------------------------------- |\n",
    "| [all()](https://www.learnbyexample.org/python-all-function/) | Returns True if all list items are true                  |\n",
    "| [any()](https://www.learnbyexample.org/python-any-function/) | Returns True if any list item is true                    |\n",
    "| [enumerate()](https://www.learnbyexample.org/python-enumerate-function/) | Takes a list and returns an enumerate object             |\n",
    "| [len()](https://www.learnbyexample.org/python-len-function/) | Returns the number of items in the list                  |\n",
    "| [list()](https://www.learnbyexample.org/python-list-function/) | Converts an iterable (tuple, string, set etc.) to a list |\n",
    "| [max()](https://www.learnbyexample.org/python-max-function/) | Returns the largest item of the list                     |\n",
    "| [min()](https://www.learnbyexample.org/python-min-function/) | Returns the smallest item of the list                    |\n",
    "| [sorted()](https://www.learnbyexample.org/python-sorted-function/) | Returns a sorted list                                    |\n",
    "| [sum()](https://www.learnbyexample.org/python-sum-function/) | Sums items of the list                                   |"
   ]
  },
  {
   "cell_type": "code",
   "execution_count": null,
   "metadata": {},
   "outputs": [],
   "source": []
  }
 ],
 "metadata": {
  "kernelspec": {
   "display_name": "Python 3",
   "language": "python",
   "name": "python3"
  },
  "language_info": {
   "codemirror_mode": {
    "name": "ipython",
    "version": 3
   },
   "file_extension": ".py",
   "mimetype": "text/x-python",
   "name": "python",
   "nbconvert_exporter": "python",
   "pygments_lexer": "ipython3",
   "version": "3.7.6"
  }
 },
 "nbformat": 4,
 "nbformat_minor": 4
}
